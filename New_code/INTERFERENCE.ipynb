{
 "cells": [
  {
   "cell_type": "code",
   "execution_count": 3,
   "metadata": {},
   "outputs": [],
   "source": [
    "import numpy as np\n",
    "import matplotlib.pyplot as plt\n",
    "import networkx as nx\n",
    "import random\n",
    "import copy\n",
    "import math\n",
    "from copy import copy, deepcopy"
   ]
  },
  {
   "cell_type": "code",
   "execution_count": null,
   "metadata": {},
   "outputs": [],
   "source": [
    "class D2D_cellular_network:\n",
    "    def __init__(self, n_cell, n_d2d, P_C, P_D):\n",
    "        self.n_cell = n_cell\n",
    "        self.n_d2d = n_d2d\n",
    "        self.P_C = P_C\n",
    "        self.P_D = P_D\n",
    "\n",
    "    def d2d_distance_matrix(self, n_d2d):\n",
    "        d2d_distance = np.zeros((n_d2d, n_d2d))\n",
    "        for i in range(n_d2d):\n",
    "            for j in range(n_d2d):\n",
    "                d2d_distance[i][j] = np.random.uniform(15, 20)\n",
    "        return d2d_distance\n",
    "\n",
    "    def pathloss(self, d): # d: distance between transmitter and receiver (in km)\n",
    "        return 140.7 + 37.6 * np.log10(d)\n",
    "\n",
    "    def shadow_fading(self):\n",
    "        return np.random.normal(0, 8)\n",
    "\n",
    "    def channel_gain(self, d, penetration_loss):\n",
    "        return pathloss(d) + shadow_fading() + penetration_loss\n",
    "\n",
    "\n",
    "        "
   ]
  }
 ],
 "metadata": {
  "kernelspec": {
   "display_name": "interference",
   "language": "python",
   "name": "python3"
  },
  "language_info": {
   "codemirror_mode": {
    "name": "ipython",
    "version": 3
   },
   "file_extension": ".py",
   "mimetype": "text/x-python",
   "name": "python",
   "nbconvert_exporter": "python",
   "pygments_lexer": "ipython3",
   "version": "3.9.17"
  },
  "orig_nbformat": 4,
  "vscode": {
   "interpreter": {
    "hash": "167897f418c9c5019c569a049a04362748dce2c658239d9c900cda7ac0b9851f"
   }
  }
 },
 "nbformat": 4,
 "nbformat_minor": 2
}
